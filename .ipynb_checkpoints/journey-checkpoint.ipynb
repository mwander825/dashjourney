{
 "cells": [
  {
   "cell_type": "code",
   "execution_count": 189,
   "id": "0aac9c54-01c9-47a9-9c4a-9ce6dd0f48dc",
   "metadata": {},
   "outputs": [],
   "source": [
    "import matplotlib.pyplot as plt, mpld3\n",
    "import re\n",
    "from dateutil.parser import parse\n",
    "from matplotlib.patches import ConnectionPatch\n",
    "import pandas as pd\n",
    "import seaborn as sns"
   ]
  },
  {
   "cell_type": "code",
   "execution_count": 118,
   "id": "f3058c62-5b68-41ea-b85c-c8e199d58f77",
   "metadata": {},
   "outputs": [],
   "source": [
    "with open(\"C:/Users/Michael/Documents/Jobs/applied_8_9_2022.txt\", \"r\", encoding=\"utf-8\") as file:\n",
    "    text = file.readlines()"
   ]
  },
  {
   "cell_type": "code",
   "execution_count": 119,
   "id": "56806b97-e72b-4556-a6e0-9761e439ad74",
   "metadata": {},
   "outputs": [],
   "source": [
    "# filter job lines\n",
    "date_dict = {}\n",
    "\n",
    "for line in text:\n",
    "    try: \n",
    "        date = parse(line)\n",
    "        date_dict[date] = []\n",
    "    except:\n",
    "        if \":\" in line:\n",
    "            date_dict[date].append(line)"
   ]
  },
  {
   "cell_type": "code",
   "execution_count": 120,
   "id": "a6467004-4470-45cc-b466-3db08ba59ab9",
   "metadata": {},
   "outputs": [],
   "source": [
    "jobs_by_date = [item for sublist in [list(map(lambda vv: (k, vv), v)) for k, v in date_dict.items()] for item in sublist]"
   ]
  },
  {
   "cell_type": "code",
   "execution_count": 121,
   "id": "24e93568-bfa9-44d8-b732-816f5f3b8803",
   "metadata": {},
   "outputs": [],
   "source": [
    "df = pd.DataFrame(jobs_by_date, columns=[\"Date_Applied\", \"Line\"])"
   ]
  },
  {
   "cell_type": "code",
   "execution_count": 122,
   "id": "a738d9a5-b57d-45b4-981b-72b28fc039cb",
   "metadata": {},
   "outputs": [],
   "source": [
    "df[\"Company\"] = df[\"Line\"].str.strip().str.split(\":|-|==>\").apply(lambda l: l[0])\n",
    "df[\"Title\"] = df[\"Line\"].str.strip().str.split(\":|-|==>\").apply(lambda l: l[1])\n",
    "df[\"Result\"] = df[\"Line\"].str.strip().str.split(\"==>\").apply(lambda l: l[1] if len(l) > 1 else \"NO RESPONSE\")"
   ]
  },
  {
   "cell_type": "code",
   "execution_count": 123,
   "id": "f74e7390-ac67-4643-8ec0-905c9c3ad0d2",
   "metadata": {},
   "outputs": [
    {
     "data": {
      "text/plain": [
       "NO RESPONSE       118\n",
       " REJECTED          51\n",
       " CONTACTED          3\n",
       " 1ST INTERVIEW      3\n",
       " SCAM               2\n",
       " WITHDRAWN          1\n",
       " 3RD INTERVIEW      1\n",
       "Name: Result, dtype: int64"
      ]
     },
     "execution_count": 123,
     "metadata": {},
     "output_type": "execute_result"
    }
   ],
   "source": [
    "# rejection PB is 37 minutes\n",
    "df[\"Result\"].value_counts(dropna=False)"
   ]
  },
  {
   "cell_type": "code",
   "execution_count": 124,
   "id": "0c979bbd-e582-45be-9557-cc8febaae362",
   "metadata": {},
   "outputs": [
    {
     "data": {
      "text/html": [
       "<div>\n",
       "<style scoped>\n",
       "    .dataframe tbody tr th:only-of-type {\n",
       "        vertical-align: middle;\n",
       "    }\n",
       "\n",
       "    .dataframe tbody tr th {\n",
       "        vertical-align: top;\n",
       "    }\n",
       "\n",
       "    .dataframe thead th {\n",
       "        text-align: right;\n",
       "    }\n",
       "</style>\n",
       "<table border=\"1\" class=\"dataframe\">\n",
       "  <thead>\n",
       "    <tr style=\"text-align: right;\">\n",
       "      <th></th>\n",
       "      <th>Date_Applied</th>\n",
       "      <th>Line</th>\n",
       "      <th>Company</th>\n",
       "      <th>Title</th>\n",
       "      <th>Result</th>\n",
       "    </tr>\n",
       "  </thead>\n",
       "  <tbody>\n",
       "    <tr>\n",
       "      <th>0</th>\n",
       "      <td>2022-08-09</td>\n",
       "      <td>NYT: Data Insights (Games)- wordleBitch123$\\n</td>\n",
       "      <td>NYT</td>\n",
       "      <td>Data Insights (Games)</td>\n",
       "      <td>NO RESPONSE</td>\n",
       "    </tr>\n",
       "    <tr>\n",
       "      <th>1</th>\n",
       "      <td>2022-08-09</td>\n",
       "      <td>SPOTIFY: Data Scientist, Spotify for Artists =...</td>\n",
       "      <td>SPOTIFY</td>\n",
       "      <td>Data Scientist, Spotify for Artists</td>\n",
       "      <td>REJECTED</td>\n",
       "    </tr>\n",
       "    <tr>\n",
       "      <th>2</th>\n",
       "      <td>2022-08-09</td>\n",
       "      <td>DOW JONES: Data Analyst - wordleBitch123$\\n</td>\n",
       "      <td>DOW JONES</td>\n",
       "      <td>Data Analyst</td>\n",
       "      <td>NO RESPONSE</td>\n",
       "    </tr>\n",
       "    <tr>\n",
       "      <th>3</th>\n",
       "      <td>2022-08-09</td>\n",
       "      <td>MANTECH: Data Science/Analytics New Graduate -...</td>\n",
       "      <td>MANTECH</td>\n",
       "      <td>Data Science/Analytics New Graduate</td>\n",
       "      <td>NO RESPONSE</td>\n",
       "    </tr>\n",
       "    <tr>\n",
       "      <th>4</th>\n",
       "      <td>2022-08-09</td>\n",
       "      <td>OSCAR HEALTH: Data Scientist\\n</td>\n",
       "      <td>OSCAR HEALTH</td>\n",
       "      <td>Data Scientist</td>\n",
       "      <td>NO RESPONSE</td>\n",
       "    </tr>\n",
       "    <tr>\n",
       "      <th>...</th>\n",
       "      <td>...</td>\n",
       "      <td>...</td>\n",
       "      <td>...</td>\n",
       "      <td>...</td>\n",
       "      <td>...</td>\n",
       "    </tr>\n",
       "    <tr>\n",
       "      <th>174</th>\n",
       "      <td>2022-10-31</td>\n",
       "      <td>CLEARLINK: DPR Data Analyst - wordleBitch123$ ...</td>\n",
       "      <td>CLEARLINK</td>\n",
       "      <td>DPR Data Analyst</td>\n",
       "      <td>REJECTED</td>\n",
       "    </tr>\n",
       "    <tr>\n",
       "      <th>175</th>\n",
       "      <td>2022-11-01</td>\n",
       "      <td>SOFTNICE: Data Analyst\\n</td>\n",
       "      <td>SOFTNICE</td>\n",
       "      <td>Data Analyst</td>\n",
       "      <td>NO RESPONSE</td>\n",
       "    </tr>\n",
       "    <tr>\n",
       "      <th>176</th>\n",
       "      <td>2022-11-01</td>\n",
       "      <td>SOUTHERN CROSS CORPORATION: Data Analyst\\n</td>\n",
       "      <td>SOUTHERN CROSS CORPORATION</td>\n",
       "      <td>Data Analyst</td>\n",
       "      <td>NO RESPONSE</td>\n",
       "    </tr>\n",
       "    <tr>\n",
       "      <th>177</th>\n",
       "      <td>2022-11-01</td>\n",
       "      <td>BET+: Data Analyst\\n</td>\n",
       "      <td>BET+</td>\n",
       "      <td>Data Analyst</td>\n",
       "      <td>NO RESPONSE</td>\n",
       "    </tr>\n",
       "    <tr>\n",
       "      <th>178</th>\n",
       "      <td>2022-11-01</td>\n",
       "      <td>SILENT FALCON UAS TECHNOLOGIES: Machine Learni...</td>\n",
       "      <td>SILENT FALCON UAS TECHNOLOGIES</td>\n",
       "      <td>Machine Learning Engineer</td>\n",
       "      <td>NO RESPONSE</td>\n",
       "    </tr>\n",
       "  </tbody>\n",
       "</table>\n",
       "<p>179 rows × 5 columns</p>\n",
       "</div>"
      ],
      "text/plain": [
       "    Date_Applied                                               Line  \\\n",
       "0     2022-08-09      NYT: Data Insights (Games)- wordleBitch123$\\n   \n",
       "1     2022-08-09  SPOTIFY: Data Scientist, Spotify for Artists =...   \n",
       "2     2022-08-09        DOW JONES: Data Analyst - wordleBitch123$\\n   \n",
       "3     2022-08-09  MANTECH: Data Science/Analytics New Graduate -...   \n",
       "4     2022-08-09                     OSCAR HEALTH: Data Scientist\\n   \n",
       "..           ...                                                ...   \n",
       "174   2022-10-31  CLEARLINK: DPR Data Analyst - wordleBitch123$ ...   \n",
       "175   2022-11-01                           SOFTNICE: Data Analyst\\n   \n",
       "176   2022-11-01         SOUTHERN CROSS CORPORATION: Data Analyst\\n   \n",
       "177   2022-11-01                               BET+: Data Analyst\\n   \n",
       "178   2022-11-01  SILENT FALCON UAS TECHNOLOGIES: Machine Learni...   \n",
       "\n",
       "                            Company                                  Title  \\\n",
       "0                               NYT                  Data Insights (Games)   \n",
       "1                           SPOTIFY   Data Scientist, Spotify for Artists    \n",
       "2                         DOW JONES                          Data Analyst    \n",
       "3                           MANTECH   Data Science/Analytics New Graduate    \n",
       "4                      OSCAR HEALTH                         Data Scientist   \n",
       "..                              ...                                    ...   \n",
       "174                       CLEARLINK                      DPR Data Analyst    \n",
       "175                        SOFTNICE                           Data Analyst   \n",
       "176      SOUTHERN CROSS CORPORATION                           Data Analyst   \n",
       "177                            BET+                           Data Analyst   \n",
       "178  SILENT FALCON UAS TECHNOLOGIES              Machine Learning Engineer   \n",
       "\n",
       "          Result  \n",
       "0    NO RESPONSE  \n",
       "1       REJECTED  \n",
       "2    NO RESPONSE  \n",
       "3    NO RESPONSE  \n",
       "4    NO RESPONSE  \n",
       "..           ...  \n",
       "174     REJECTED  \n",
       "175  NO RESPONSE  \n",
       "176  NO RESPONSE  \n",
       "177  NO RESPONSE  \n",
       "178  NO RESPONSE  \n",
       "\n",
       "[179 rows x 5 columns]"
      ]
     },
     "execution_count": 124,
     "metadata": {},
     "output_type": "execute_result"
    }
   ],
   "source": [
    "df"
   ]
  },
  {
   "cell_type": "code",
   "execution_count": 188,
   "id": "2c8b6ee4-73c6-45b7-a202-2db6a1e1fde5",
   "metadata": {},
   "outputs": [
    {
     "name": "stdout",
     "output_type": "stream",
     "text": [
      "\n",
      "Note: if you're in the IPython notebook, mpld3.show() is not the best command\n",
      "      to use. Consider using mpld3.display(), or mpld3.enable_notebook().\n",
      "      See more information at http://mpld3.github.io/quickstart.html .\n",
      "\n",
      "You must interrupt the kernel to end this command\n",
      "\n",
      "Serving to http://127.0.0.1:8891/    [Ctrl-C to exit]\n"
     ]
    },
    {
     "name": "stderr",
     "output_type": "stream",
     "text": [
      "127.0.0.1 - - [03/Nov/2022 22:29:48] \"GET / HTTP/1.1\" 200 -\n",
      "127.0.0.1 - - [03/Nov/2022 22:29:48] \"GET /d3.js HTTP/1.1\" 200 -\n",
      "127.0.0.1 - - [03/Nov/2022 22:29:48] \"GET /mpld3.js HTTP/1.1\" 200 -\n"
     ]
    },
    {
     "name": "stdout",
     "output_type": "stream",
     "text": [
      "\n",
      "stopping Server...\n"
     ]
    },
    {
     "data": {
      "image/png": "[encoded data removed]",
      "text/plain": [
       "<Figure size 432x288 with 1 Axes>"
      ]
     },
     "metadata": {
      "needs_background": "light"
     },
     "output_type": "display_data"
    }
   ],
   "source": [
    "plt.plot(df.groupby(\"Date_Applied\").count()[\"Line\"], \"--\", marker=\".\")\n",
    "mpld3.show()"
   ]
  },
  {
   "cell_type": "code",
   "execution_count": 160,
   "id": "2e3e1457-38dc-439e-a6cc-ce78bc8bd293",
   "metadata": {},
   "outputs": [
    {
     "data": {
      "text/plain": [
       "[<matplotlib.lines.Line2D at 0x26aa317f0d0>]"
      ]
     },
     "execution_count": 160,
     "metadata": {},
     "output_type": "execute_result"
    },
    {
     "data": {
      "image/png": "[encoded data removed]",
      "text/plain": [
       "<Figure size 432x288 with 1 Axes>"
      ]
     },
     "metadata": {
      "needs_background": "light"
     },
     "output_type": "display_data"
    }
   ],
   "source": [
    "plt.plot(df.groupby(\"Date_Applied\").count()[\"Line\"].cumsum(), c=\"orange\")"
   ]
  },
  {
   "cell_type": "code",
   "execution_count": 246,
   "id": "eca41998-91ce-4767-bd2d-bc39f1cbd1dd",
   "metadata": {},
   "outputs": [
    {
     "name": "stdout",
     "output_type": "stream",
     "text": [
      " REJECTED\n",
      " CONTACTED\n",
      " 1ST INTERVIEW\n",
      " SCAM\n",
      " WITHDRAWN\n",
      " 3RD INTERVIEW\n"
     ]
    },
    {
     "data": {
      "image/png": "[encoded data removed]",
      "text/plain": [
       "<Figure size 1080x1080 with 2 Axes>"
      ]
     },
     "metadata": {
      "needs_background": "light"
     },
     "output_type": "display_data"
    }
   ],
   "source": [
    "fig, (ax1, ax2) = plt.subplots(1,2, figsize=(15,15))\n",
    "fig.subplots_adjust(wspace=0)\n",
    "\n",
    "woi = \"YES RESPONSE\"\n",
    "explosion_size = 0.1\n",
    "\n",
    "\n",
    "\n",
    "response_binary = df[\"Result\"].where(df[\"Result\"] == \"NO RESPONSE\", \"YES RESPONSE\")\n",
    "\n",
    "pie_data = response_binary\n",
    "bar_data = df[\"Result\"][df[\"Result\"] != \"NO RESPONSE\"]\n",
    "\n",
    "## setting up pie chart\n",
    "\n",
    "# ratios\n",
    "ratios = response_binary.value_counts() / len(response_binary)\n",
    "\n",
    "# labels\n",
    "labels = response_binary.value_counts().index\n",
    "\n",
    "# get explosions and angle for wedge of interest\n",
    "explode = [explosion_size if label == woi else 0.0 for label in labels]\n",
    "angle = 180 * ratios[woi]\n",
    "\n",
    "# plot pie\n",
    "wedges, *_ = ax1.pie(response_binary.value_counts(), autopct=\"%1.1f%%\", labels=response_binary.value_counts().index, explode=explode, startangle=angle)\n",
    "\n",
    "## setting up bar chart\n",
    "\n",
    "# ratios\n",
    "ratios = bar_data.value_counts() / len(bar_data)\n",
    "\n",
    "# labels\n",
    "labels = bar_data.value_counts().index\n",
    "\n",
    "for j, (height, label) in enumerate([*zip(ratios, labels)]):\n",
    "    "
   ]
  },
  {
   "cell_type": "code",
   "execution_count": null,
   "id": "2acb650f-5aa9-42a7-80da-e7a903ded16f",
   "metadata": {},
   "outputs": [],
   "source": []
  },
  {
   "cell_type": "raw",
   "id": "16396e27-09db-4803-826a-1556af26fb7f",
   "metadata": {},
   "source": [
    "wedges[0][0]"
   ]
  },
  {
   "cell_type": "code",
   "execution_count": 223,
   "id": "4f9a5c77-2f20-4db3-8c88-d7f9b135c1fc",
   "metadata": {},
   "outputs": [
    {
     "data": {
      "text/plain": [
       "0.659217877094972"
      ]
     },
     "execution_count": 223,
     "metadata": {},
     "output_type": "execute_result"
    }
   ],
   "source": []
  },
  {
   "cell_type": "code",
   "execution_count": 185,
   "id": "0c5923d5-76b3-41ba-9b97-49e8a6ce3781",
   "metadata": {},
   "outputs": [],
   "source": [
    "response_counts = df[\"Result\"][df[\"Result\"] != \"NO RESPONSE\"].value_counts().values\n",
    "response_labels = df[\"Result\"][df[\"Result\"] != \"NO RESPONSE\"].unique()"
   ]
  }
 ],
 "metadata": {
  "kernelspec": {
   "display_name": "Python 3 (ipykernel)",
   "language": "python",
   "name": "python3"
  },
  "language_info": {
   "codemirror_mode": {
    "name": "ipython",
    "version": 3
   },
   "file_extension": ".py",
   "mimetype": "text/x-python",
   "name": "python",
   "nbconvert_exporter": "python",
   "pygments_lexer": "ipython3",
   "version": "3.8.13"
  }
 },
 "nbformat": 4,
 "nbformat_minor": 5
}
