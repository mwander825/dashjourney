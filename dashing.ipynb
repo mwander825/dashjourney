{
 "cells": [
  {
   "cell_type": "markdown",
   "id": "16c15871-d5e4-4f77-9026-095ebc45351a",
   "metadata": {},
   "source": [
    "# Replicating Previous Visualizations in Dash"
   ]
  },
  {
   "cell_type": "code",
   "execution_count": 14,
   "id": "a6719ab5-06a4-41a9-922c-b9e186664737",
   "metadata": {},
   "outputs": [],
   "source": [
    "from jupyter_dash import JupyterDash\n",
    "from dash import Dash, html, dcc, Input, Output\n",
    "import plotly.express as px\n",
    "import plotly.graph_objects as go\n",
    "from plotly.subplots import make_subplots\n",
    "\n",
    "import pandas as pd\n",
    "import numpy as np\n",
    "from dateutil.parser import parse"
   ]
  },
  {
   "cell_type": "markdown",
   "id": "246fef87-ca50-4772-a2f2-794ff5f4ffa5",
   "metadata": {},
   "source": [
    "## Data Loading and Preprocessing"
   ]
  },
  {
   "cell_type": "code",
   "execution_count": 15,
   "id": "c23a7140-fbfc-4888-b2cf-2c03b60ae3f9",
   "metadata": {},
   "outputs": [],
   "source": [
    "with open(\"C:/Users/mjwan/Documents/Jobs/applied_8_9_2022.txt\", \"r\", encoding=\"utf-8\") as file:\n",
    "    text = file.readlines()\n",
    "\n",
    "# filter job lines\n",
    "date_dict = {}\n",
    "\n",
    "for line in text:\n",
    "    try: \n",
    "        date = parse(line)\n",
    "        date_dict[date] = []\n",
    "    except:\n",
    "        if \":\" in line:\n",
    "            date_dict[date].append(line)\n",
    "\n",
    "jobs_by_date = [item for sublist in [list(map(lambda vv: (k, vv), v)) for k, v in date_dict.items()] for item in sublist]"
   ]
  },
  {
   "cell_type": "code",
   "execution_count": 16,
   "id": "b49d6022-0fa9-48c9-aa1f-7c7596a3dfa9",
   "metadata": {},
   "outputs": [],
   "source": [
    "DOW_dict = {\"Monday\": 0,\n",
    "           \"Tuesday\": 1,\n",
    "           \"Wednesday\": 2,\n",
    "           \"Thursday\": 3,\n",
    "           \"Friday\": 4,\n",
    "           \"Saturday\": 5,\n",
    "           \"Sunday\": 6}\n",
    "\n",
    "df = pd.DataFrame(jobs_by_date, columns=[\"Date_Applied\", \"Line\"])\n",
    "df[\"Company\"] = df[\"Line\"].str.strip().str.split(\":\").apply(lambda l: l[0].strip())\n",
    "df[\"Title\"] = df[\"Line\"].str.strip().str.split(\":|w.+\\$$|==>\", regex=True).apply(lambda l: l[1].strip().title())\n",
    "df[\"Result\"] = df[\"Line\"].str.strip().str.split(\"==>\").apply(lambda l: l[1].strip().title() if len(l) > 1 else \"No Response\")\n",
    "df[\"DOW\"] = df[\"Date_Applied\"].apply(lambda d: d.day_name())\n",
    "df[\"year_month\"] = df[\"Date_Applied\"].dt.to_period(\"M\").astype(str)\n",
    "\n",
    "df_title = df[\"Title\"]\n",
    "\n",
    "dse_match = \"(?i)Data Scientist|Data Science|Science|Scientist\"\n",
    "da_match = \"(?i)Data Analyst|Data Analytics|Analytics|Analyst\"\n",
    "ml_match = \"(?i)Machine Learning Engineer|Machine Learning\"\n",
    "de_match = \"(?i)Data Engineer|Engineer|Engineering|Database\"\n",
    "\n",
    "# fixing overlaps\n",
    "dse_series = df_title[df_title.str.contains(dse_match)]\n",
    "\n",
    "ml_series = df_title[df_title.str.contains(ml_match)]\n",
    "de_series = df_title[df_title.str.contains(de_match)]\n",
    "de_series = de_series[(~de_series.isin(ml_series)) & (~de_series.isin(dse_series))]\n",
    "\n",
    "da_series = df_title[df_title.str.contains(da_match)]\n",
    "da_series = da_series[(~da_series.isin(dse_series)) & (~da_series.isin(de_series)) & (~da_series.isin(ml_series))]\n",
    "\n",
    "other_series = df_title[~((df_title.str.contains(dse_match)) | (df_title.str.contains(da_match)) | (df_title.str.contains(ml_match)) | (df_title.str.contains(de_match)))]\n",
    "\n",
    "df[\"Broad_Role\"] = pd.Series(\"Data Scientist\", dse_series.index).combine_first(pd.Series(\"Data Analyst\", da_series.index)) \\\n",
    "    .combine_first(pd.Series(\"Data Engineer\", de_series.index)) \\\n",
    "    .combine_first(pd.Series(\"ML Engineer\", ml_series.index)) \\\n",
    "    .combine_first(pd.Series(\"Other\", other_series.index))"
   ]
  },
  {
   "cell_type": "markdown",
   "id": "e26feb4f-1b07-4e28-8e83-33b4ab0c1bd7",
   "metadata": {},
   "source": [
    "## Save Dataframe to .csv (need to re-run when new results come in)"
   ]
  },
  {
   "cell_type": "code",
   "execution_count": 17,
   "id": "bd3f4493-64ee-439f-8412-cfc89d852e17",
   "metadata": {},
   "outputs": [],
   "source": [
    "df.drop([\"Line\", \"Title\", \"Company\"], axis=1).to_csv(\"Application_Results_12_31_2022.csv\")"
   ]
  },
  {
   "cell_type": "markdown",
   "id": "649d35ec-e98e-4f03-994c-b010a610230e",
   "metadata": {},
   "source": [
    "## Constructing Dash Application"
   ]
  },
  {
   "cell_type": "code",
   "execution_count": 18,
   "id": "f8249f0f-1411-448a-b95f-b6fcca6c0091",
   "metadata": {},
   "outputs": [],
   "source": [
    "external_stylesheets = ['']\n",
    "\n",
    "date_count = df.groupby(\"Date_Applied\").size().reindex(pd.date_range(df[\"Date_Applied\"].min(), df[\"Date_Applied\"].max()), fill_value=0)\n",
    "\n",
    "app = JupyterDash(__name__) #external_stylesheets=external_stylesheets)\n",
    "\n",
    "# Result color map\n",
    "result_colors = {\n",
    "              \"Total\": \"blue\",\n",
    "              \"No Response\": \"salmon\",  \n",
    "              \"Rejected\": \"crimson\",\n",
    "              \"Contacted\": \"gold\",\n",
    "              \"First Interview\": \"seagreen\",\n",
    "              \"Second Intervew\": \"mediumseagreen\",\n",
    "              \"Third Interview\": \"mediumaquamarine\",\n",
    "              \"Offer\": \"lime\",\n",
    "              \"Scam\": \"purple\"\n",
    "}\n",
    "\n",
    "# bar graph role groupby\n",
    "role_group = df.groupby([\"Broad_Role\", \"Result\"]).size().unstack()\n",
    "\n",
    "role_group[\"Total\"] = role_group.sum(axis=1)\n",
    "\n",
    "role_group_to_bar = role_group.assign(temp_sum=role_group.sum(axis=1)) \\\n",
    "    .sort_values(by=\"temp_sum\", ascending=False).iloc[:,:-1] \\\n",
    "    .reindex(role_group.mean(axis=0).sort_values(ascending=False).index, axis=1)\n",
    "\n",
    "role_group_fig = px.bar(role_group_to_bar,\n",
    "            barmode=\"group\",\n",
    "            color_discrete_map=result_colors,\n",
    "            labels=dict(Broad_Role=\"Broad Role Category\", \n",
    "                        value=\"# of Applications\"),\n",
    "            title=\"Application Results by Role Category\"\n",
    "            )\n",
    "\n",
    "time_series_fig = make_subplots(specs=[[{\"secondary_y\": True}]])\n",
    "\n",
    "time_series_fig.add_bar(x=date_count.index, y=date_count.values, name=\"Daily Count\", secondary_y=False)\n",
    "\n",
    "time_series_fig.add_scatter(x=date_count.cumsum().index, y=date_count.cumsum().values, name=\"Cumulative Count\", fillcolor=\"orange\", secondary_y=True)\n",
    "\n",
    "time_series_fig.update_layout(yaxis_range=[date_count.min(),date_count.max()+1], title_text=\"Applications Over Time\")\n",
    "time_series_fig.update_yaxes(title_text=\"# of Applications Per Day\", secondary_y=False)\n",
    "time_series_fig.update_yaxes(title_text=\"Cumulative # of Applications\", secondary_y=True)\n",
    "\n",
    "# adding vertical lines\n",
    "resume_dates = [\"2022-08-12\", \"2022-08-19\", \"2022-08-31\", \"2022-09-05\"]\n",
    "interview_dates = df[\"Date_Applied\"][df[\"Result\"].str.contains(\"(?i)Interview\")].values\n",
    "offer_dates = df[\"Date_Applied\"][df[\"Result\"].str.contains(\"Offer\")].values\n",
    "\n",
    "for i, x in enumerate(resume_dates):\n",
    "    #time_series_fig.add_vline(x=str(x), line_width=1, line_dash=\"dash\", line_color=\"red\")\n",
    "    time_series_fig.add_trace(go.Scatter(x=[str(x),str(x)], \n",
    "                         y=[date_count.min(),date_count.max()+1], \n",
    "                         mode='lines', \n",
    "                         line=dict(color='red', width=2, dash='dash'),\n",
    "                         name=\"Resume Updated\",\n",
    "                         legendgroup=\"Resume Updated\",\n",
    "                         showlegend=False if i > 0 else True))\n",
    "\n",
    "for i, x in enumerate(interview_dates):\n",
    "    #time_series_fig.add_vline(x=str(x), line_width=1, line_dash=\"dashdot\", line_color=\"green\")\n",
    "    time_series_fig.add_trace(go.Scatter(x=[str(x),str(x)], \n",
    "                         y=[date_count.min(),date_count.max()+1], \n",
    "                         mode='lines', \n",
    "                         line=dict(color='green', width=1, dash='dashdot'),\n",
    "                         name=\"Application(s) Led to Interview\",\n",
    "                         legendgroup=\"Application(s) Led to Interview\",\n",
    "                         showlegend=False if i > 0 else True))\n",
    "    \n",
    "for i, x in enumerate(offer_dates):\n",
    "    #time_series_fig.add_vline(x=str(x), line_width=1, line_dash=\"longdashdot\", line_color=\"black\")\n",
    "    time_series_fig.add_trace(go.Scatter(x=[str(x),str(x)], \n",
    "                     y=[date_count.min(),date_count.max()+1], \n",
    "                     mode='lines', \n",
    "                     line=dict(color='black', width=1, dash='longdashdot'),\n",
    "                     name=\"Application(s) Led to Offer\",\n",
    "                     legendgroup=\"Application(s) Led to Offer\",\n",
    "                     showlegend=False if i > 0 else True))\n",
    "    \n",
    "pie_fig = px.pie(df, values=df[\"Result\"].value_counts(), names=df[\"Result\"].value_counts().index,\n",
    "                color=df[\"Result\"].value_counts().index,\n",
    "                color_discrete_map=result_colors)    \n",
    "\n",
    "pie_fig.update_layout(title=dict(text=\"Overall Applications\", xanchor=\"center\", x=0.5), font=dict(size=12))\n",
    "\n",
    "# dow    \n",
    "dow_group = df.groupby([\"DOW\", \"Result\"]).size().unstack() \\\n",
    "            .sort_index(key=lambda d: d.map(DOW_dict)) \\\n",
    "\n",
    "dow_group[\"Total\"] = dow_group.sum(axis=1)\n",
    "\n",
    "dow_group = dow_group.reindex(dow_group.mean(axis=0) \\\n",
    "            .sort_values(ascending=False).index, axis=1)\n",
    "\n",
    "dow_fig = px.bar(dow_group,\n",
    "            barmode=\"group\",\n",
    "            color_discrete_map=result_colors,\n",
    "            labels=dict(DOW=\"Day of Application\", \n",
    "                        value=\"# of Applications\"),\n",
    "            title=\"Application Results by Day of the Week\"\n",
    "            )   \n",
    "\n",
    "# month\n",
    "month_group = df.groupby([\"year_month\", \"Result\"]).size().unstack()\n",
    "\n",
    "month_group[\"Total\"] = month_group.sum(axis=1)\n",
    "\n",
    "month_group = month_group.reindex(month_group.mean(axis=0) \\\n",
    "              .sort_values(ascending=False).index, axis=1)\n",
    "\n",
    "month_fig = px.bar(month_group,\n",
    "            barmode=\"group\",\n",
    "            color_discrete_map=result_colors,\n",
    "            labels=dict(year_month=\"Month\", \n",
    "                        value=\"# of Applications\"),\n",
    "            title=\"Application Results by Month\"\n",
    "            )  \n",
    "\n",
    "month_fig.update_xaxes(\n",
    "    dtick=\"M1\",\n",
    "    tickformat=\"%b %Y\")    \n",
    "    \n",
    "app.layout = html.Div(children=[\n",
    "    html.H1(children='Journey to an Entry-Level Job'),\n",
    "\n",
    "    html.Div(children=[\n",
    "        html.H2(\"\"\"Background\"\"\"),\n",
    "        \n",
    "        html.P(\"\"\"bigman\"\"\")\n",
    "    \n",
    "    ]),\n",
    "    \n",
    "    html.Div(children=[\n",
    "        html.H2(\"\"\"Examining Applications over Time\"\"\"),\n",
    "        \n",
    "        html.P(\"\"\"The date range of applications I will look at is 08/09/2022 to 12/31/2022, bigman\"\"\"),\n",
    "        \n",
    "        dcc.Graph(\n",
    "            id='time-series',\n",
    "            figure=time_series_fig\n",
    "        )\n",
    "    \n",
    "    ]),\n",
    "    \n",
    "    html.Div(children=[\n",
    "        html.H2(\"\"\"Examining Applications by Month\"\"\"),\n",
    "        \n",
    "        # \"error loading layout\": plotly doesn't like Period type for time?\n",
    "        dcc.Graph(\n",
    "            id='month-groups',\n",
    "            figure=month_fig\n",
    "        )\n",
    "    ]),\n",
    "    \n",
    "    html.Div(children=[\n",
    "        html.H2(\"\"\"Examining Applications by Days of the Week\"\"\"),\n",
    "        \n",
    "        dcc.Graph(\n",
    "            id='dow-groups',\n",
    "            figure=dow_fig\n",
    "        )\n",
    "    ]),\n",
    "    \n",
    "    html.Div(children=[\n",
    "        html.H2(\"\"\"Examining Applications by Role\"\"\"),\n",
    "\n",
    "        dcc.Graph(\n",
    "            id='role-groups',\n",
    "            figure=role_group_fig\n",
    "        )\n",
    "    ]),\n",
    "    \n",
    "    html.Div(children=[\n",
    "        html.H2(\"\"\"Overall Results of Applications\"\"\"),\n",
    "        \n",
    "        html.P(\"\"\"guy\"\"\"),\n",
    "        \n",
    "        \n",
    "        html.Div(children=[\n",
    "            html.H4(\"\"\"Role Category Dropdown\"\"\"),\n",
    "\n",
    "            dcc.Dropdown(\n",
    "                [\"Overall\"] + list(role_group_to_bar.index),\n",
    "                'Overall',\n",
    "                id='pie-cats'\n",
    "            ),\n",
    "                        \n",
    "        ], style={'width': '25%'}),\n",
    "        \n",
    "        dcc.Graph(\n",
    "            id='results-pie',\n",
    "            figure=pie_fig\n",
    "        )\n",
    "    ]),\n",
    "    html.Div(children=[\n",
    "        html.H2(\"\"\"In Conclusion...\"\"\"),\n",
    "        \n",
    "        html.P(\"\"\" \"\"\")\n",
    "    ])\n",
    "])\n",
    "\n",
    "# callback decorator\n",
    "\n",
    "@app.callback(\n",
    "    Output('results-pie', 'figure'),\n",
    "    Input('pie-cats', 'value'))\n",
    "    \n",
    "def update_pie(pie_category):   \n",
    "    pie_category = pie_category if pie_category is not None else \"Overall\"\n",
    "    \n",
    "    # default to overall if clearing the dropdown\n",
    "    if pie_category == \"Overall\":\n",
    "        fig = px.pie(df, values=df[\"Result\"].value_counts(), names=df[\"Result\"].value_counts().index,\n",
    "                color=df[\"Result\"].value_counts().index,\n",
    "                color_discrete_map=result_colors,\n",
    "                hole=0.4) # donut\n",
    "    else:\n",
    "        pie_cat_df = df[df[\"Broad_Role\"] == pie_category]\n",
    "    \n",
    "        fig = px.pie(pie_cat_df, values=pie_cat_df[\"Result\"].value_counts(), names=pie_cat_df[\"Result\"].value_counts().index,\n",
    "                color=pie_cat_df[\"Result\"].value_counts().index,\n",
    "                color_discrete_map=result_colors,\n",
    "                hole=0.4) # donut\n",
    "    \n",
    "    # update text labels on pie slices\n",
    "    fig.update_traces(textinfo=\"value+percent\", texttemplate=\"(%{value})<br>%{percent}\")\n",
    "    \n",
    "    # update title\n",
    "    fig.update_layout(title=dict(text=f\"{pie_category} Applications\", xanchor=\"center\", x=0.5), font=dict(size=12))\n",
    "    \n",
    "    return fig\n",
    "        \n",
    "# when in script\n",
    "#if __name__ == '__main__':\n",
    "#    app.run_server()"
   ]
  },
  {
   "cell_type": "code",
   "execution_count": 81,
   "id": "2f57a77b-f087-46c5-bf0b-5bf7e428e796",
   "metadata": {},
   "outputs": [
    {
     "data": {
      "application/vnd.plotly.v1+json": {
       "config": {
        "plotlyServerURL": "https://plot.ly"
       },
       "data": [
        {
         "domain": {
          "x": [
           0,
           0.2888888888888889
          ],
          "y": [
           0.625,
           1
          ]
         },
         "hole": 0.4,
         "labels": [
          "No Response",
          "Rejected",
          "First Interview",
          "Scam",
          "Contacted",
          "Third Interview",
          "Offer"
         ],
         "marker": {
          "colors": [
           "salmon",
           "crimson",
           "seagreen",
           "purple",
           "gold",
           "mediumaquamarine",
           "lime"
          ]
         },
         "name": "",
         "scalegroup": "one",
         "textinfo": "value+percent",
         "texttemplate": "(%{value})<br>%{percent}",
         "type": "pie",
         "values": [
          170,
          86,
          7,
          4,
          3,
          2,
          1
         ]
        },
        {
         "domain": {
          "x": [
           0.35555555555555557,
           0.6444444444444445
          ],
          "y": [
           0.625,
           1
          ]
         },
         "hole": 0.4,
         "labels": [
          "No Response",
          "Rejected",
          "Contacted",
          "Scam",
          "Third Interview"
         ],
         "marker": {
          "colors": [
           "salmon",
           "crimson",
           "gold",
           "purple",
           "mediumaquamarine"
          ]
         },
         "name": "",
         "scalegroup": "one",
         "textinfo": "value+percent",
         "texttemplate": "(%{value})<br>%{percent}",
         "type": "pie",
         "values": [
          91,
          43,
          2,
          1,
          1
         ]
        },
        {
         "domain": {
          "x": [
           0.7111111111111111,
           1
          ],
          "y": [
           0.625,
           1
          ]
         },
         "hole": 0.4,
         "labels": [
          "No Response",
          "Rejected",
          "First Interview",
          "Scam",
          "Contacted",
          "Third Interview"
         ],
         "marker": {
          "colors": [
           "salmon",
           "crimson",
           "seagreen",
           "purple",
           "gold",
           "mediumaquamarine"
          ]
         },
         "name": "",
         "scalegroup": "one",
         "textinfo": "value+percent",
         "texttemplate": "(%{value})<br>%{percent}",
         "type": "pie",
         "values": [
          62,
          29,
          6,
          3,
          1,
          1
         ]
        },
        {
         "domain": {
          "x": [
           0,
           0.2888888888888889
          ],
          "y": [
           0,
           0.375
          ]
         },
         "hole": 0.4,
         "labels": [
          "Rejected",
          "No Response",
          "Offer"
         ],
         "marker": {
          "colors": [
           "crimson",
           "salmon",
           "lime"
          ]
         },
         "name": "",
         "scalegroup": "one",
         "textinfo": "value+percent",
         "texttemplate": "(%{value})<br>%{percent}",
         "type": "pie",
         "values": [
          8,
          5,
          1
         ]
        },
        {
         "domain": {
          "x": [
           0.35555555555555557,
           0.6444444444444445
          ],
          "y": [
           0,
           0.375
          ]
         },
         "hole": 0.4,
         "labels": [
          "No Response",
          "Rejected"
         ],
         "marker": {
          "colors": [
           "salmon",
           "crimson"
          ]
         },
         "name": "",
         "scalegroup": "one",
         "textinfo": "value+percent",
         "texttemplate": "(%{value})<br>%{percent}",
         "type": "pie",
         "values": [
          6,
          5
         ]
        },
        {
         "domain": {
          "x": [
           0.7111111111111111,
           1
          ],
          "y": [
           0,
           0.375
          ]
         },
         "hole": 0.4,
         "labels": [
          "No Response",
          "First Interview",
          "Rejected"
         ],
         "marker": {
          "colors": [
           "salmon",
           "seagreen",
           "crimson"
          ]
         },
         "name": "",
         "scalegroup": "one",
         "textinfo": "value+percent",
         "texttemplate": "(%{value})<br>%{percent}",
         "type": "pie",
         "values": [
          6,
          1,
          1
         ]
        }
       ],
       "layout": {
        "annotations": [
         {
          "font": {
           "size": 16
          },
          "showarrow": false,
          "text": "Overall Applications",
          "x": 0.14444444444444446,
          "xanchor": "center",
          "xref": "paper",
          "y": 1,
          "yanchor": "bottom",
          "yref": "paper"
         },
         {
          "font": {
           "size": 16
          },
          "showarrow": false,
          "text": "Data Scientist Applications",
          "x": 0.5,
          "xanchor": "center",
          "xref": "paper",
          "y": 1,
          "yanchor": "bottom",
          "yref": "paper"
         },
         {
          "font": {
           "size": 16
          },
          "showarrow": false,
          "text": "Data Analyst Applications",
          "x": 0.8555555555555556,
          "xanchor": "center",
          "xref": "paper",
          "y": 1,
          "yanchor": "bottom",
          "yref": "paper"
         },
         {
          "font": {
           "size": 16
          },
          "showarrow": false,
          "text": "Data Engineer Applications",
          "x": 0.14444444444444446,
          "xanchor": "center",
          "xref": "paper",
          "y": 0.375,
          "yanchor": "bottom",
          "yref": "paper"
         },
         {
          "font": {
           "size": 16
          },
          "showarrow": false,
          "text": "Other Applications",
          "x": 0.5,
          "xanchor": "center",
          "xref": "paper",
          "y": 0.375,
          "yanchor": "bottom",
          "yref": "paper"
         },
         {
          "font": {
           "size": 16
          },
          "showarrow": false,
          "text": "ML Engineer Applications",
          "x": 0.8555555555555556,
          "xanchor": "center",
          "xref": "paper",
          "y": 0.375,
          "yanchor": "bottom",
          "yref": "paper"
         }
        ],
        "height": 1000,
        "template": {
         "data": {
          "bar": [
           {
            "error_x": {
             "color": "#2a3f5f"
            },
            "error_y": {
             "color": "#2a3f5f"
            },
            "marker": {
             "line": {
              "color": "#E5ECF6",
              "width": 0.5
             },
             "pattern": {
              "fillmode": "overlay",
              "size": 10,
              "solidity": 0.2
             }
            },
            "type": "bar"
           }
          ],
          "barpolar": [
           {
            "marker": {
             "line": {
              "color": "#E5ECF6",
              "width": 0.5
             },
             "pattern": {
              "fillmode": "overlay",
              "size": 10,
              "solidity": 0.2
             }
            },
            "type": "barpolar"
           }
          ],
          "carpet": [
           {
            "aaxis": {
             "endlinecolor": "#2a3f5f",
             "gridcolor": "white",
             "linecolor": "white",
             "minorgridcolor": "white",
             "startlinecolor": "#2a3f5f"
            },
            "baxis": {
             "endlinecolor": "#2a3f5f",
             "gridcolor": "white",
             "linecolor": "white",
             "minorgridcolor": "white",
             "startlinecolor": "#2a3f5f"
            },
            "type": "carpet"
           }
          ],
          "choropleth": [
           {
            "colorbar": {
             "outlinewidth": 0,
             "ticks": ""
            },
            "type": "choropleth"
           }
          ],
          "contour": [
           {
            "colorbar": {
             "outlinewidth": 0,
             "ticks": ""
            },
            "colorscale": [
             [
              0,
              "#0d0887"
             ],
             [
              0.1111111111111111,
              "#46039f"
             ],
             [
              0.2222222222222222,
              "#7201a8"
             ],
             [
              0.3333333333333333,
              "#9c179e"
             ],
             [
              0.4444444444444444,
              "#bd3786"
             ],
             [
              0.5555555555555556,
              "#d8576b"
             ],
             [
              0.6666666666666666,
              "#ed7953"
             ],
             [
              0.7777777777777778,
              "#fb9f3a"
             ],
             [
              0.8888888888888888,
              "#fdca26"
             ],
             [
              1,
              "#f0f921"
             ]
            ],
            "type": "contour"
           }
          ],
          "contourcarpet": [
           {
            "colorbar": {
             "outlinewidth": 0,
             "ticks": ""
            },
            "type": "contourcarpet"
           }
          ],
          "heatmap": [
           {
            "colorbar": {
             "outlinewidth": 0,
             "ticks": ""
            },
            "colorscale": [
             [
              0,
              "#0d0887"
             ],
             [
              0.1111111111111111,
              "#46039f"
             ],
             [
              0.2222222222222222,
              "#7201a8"
             ],
             [
              0.3333333333333333,
              "#9c179e"
             ],
             [
              0.4444444444444444,
              "#bd3786"
             ],
             [
              0.5555555555555556,
              "#d8576b"
             ],
             [
              0.6666666666666666,
              "#ed7953"
             ],
             [
              0.7777777777777778,
              "#fb9f3a"
             ],
             [
              0.8888888888888888,
              "#fdca26"
             ],
             [
              1,
              "#f0f921"
             ]
            ],
            "type": "heatmap"
           }
          ],
          "heatmapgl": [
           {
            "colorbar": {
             "outlinewidth": 0,
             "ticks": ""
            },
            "colorscale": [
             [
              0,
              "#0d0887"
             ],
             [
              0.1111111111111111,
              "#46039f"
             ],
             [
              0.2222222222222222,
              "#7201a8"
             ],
             [
              0.3333333333333333,
              "#9c179e"
             ],
             [
              0.4444444444444444,
              "#bd3786"
             ],
             [
              0.5555555555555556,
              "#d8576b"
             ],
             [
              0.6666666666666666,
              "#ed7953"
             ],
             [
              0.7777777777777778,
              "#fb9f3a"
             ],
             [
              0.8888888888888888,
              "#fdca26"
             ],
             [
              1,
              "#f0f921"
             ]
            ],
            "type": "heatmapgl"
           }
          ],
          "histogram": [
           {
            "marker": {
             "pattern": {
              "fillmode": "overlay",
              "size": 10,
              "solidity": 0.2
             }
            },
            "type": "histogram"
           }
          ],
          "histogram2d": [
           {
            "colorbar": {
             "outlinewidth": 0,
             "ticks": ""
            },
            "colorscale": [
             [
              0,
              "#0d0887"
             ],
             [
              0.1111111111111111,
              "#46039f"
             ],
             [
              0.2222222222222222,
              "#7201a8"
             ],
             [
              0.3333333333333333,
              "#9c179e"
             ],
             [
              0.4444444444444444,
              "#bd3786"
             ],
             [
              0.5555555555555556,
              "#d8576b"
             ],
             [
              0.6666666666666666,
              "#ed7953"
             ],
             [
              0.7777777777777778,
              "#fb9f3a"
             ],
             [
              0.8888888888888888,
              "#fdca26"
             ],
             [
              1,
              "#f0f921"
             ]
            ],
            "type": "histogram2d"
           }
          ],
          "histogram2dcontour": [
           {
            "colorbar": {
             "outlinewidth": 0,
             "ticks": ""
            },
            "colorscale": [
             [
              0,
              "#0d0887"
             ],
             [
              0.1111111111111111,
              "#46039f"
             ],
             [
              0.2222222222222222,
              "#7201a8"
             ],
             [
              0.3333333333333333,
              "#9c179e"
             ],
             [
              0.4444444444444444,
              "#bd3786"
             ],
             [
              0.5555555555555556,
              "#d8576b"
             ],
             [
              0.6666666666666666,
              "#ed7953"
             ],
             [
              0.7777777777777778,
              "#fb9f3a"
             ],
             [
              0.8888888888888888,
              "#fdca26"
             ],
             [
              1,
              "#f0f921"
             ]
            ],
            "type": "histogram2dcontour"
           }
          ],
          "mesh3d": [
           {
            "colorbar": {
             "outlinewidth": 0,
             "ticks": ""
            },
            "type": "mesh3d"
           }
          ],
          "parcoords": [
           {
            "line": {
             "colorbar": {
              "outlinewidth": 0,
              "ticks": ""
             }
            },
            "type": "parcoords"
           }
          ],
          "pie": [
           {
            "automargin": true,
            "type": "pie"
           }
          ],
          "scatter": [
           {
            "fillpattern": {
             "fillmode": "overlay",
             "size": 10,
             "solidity": 0.2
            },
            "type": "scatter"
           }
          ],
          "scatter3d": [
           {
            "line": {
             "colorbar": {
              "outlinewidth": 0,
              "ticks": ""
             }
            },
            "marker": {
             "colorbar": {
              "outlinewidth": 0,
              "ticks": ""
             }
            },
            "type": "scatter3d"
           }
          ],
          "scattercarpet": [
           {
            "marker": {
             "colorbar": {
              "outlinewidth": 0,
              "ticks": ""
             }
            },
            "type": "scattercarpet"
           }
          ],
          "scattergeo": [
           {
            "marker": {
             "colorbar": {
              "outlinewidth": 0,
              "ticks": ""
             }
            },
            "type": "scattergeo"
           }
          ],
          "scattergl": [
           {
            "marker": {
             "colorbar": {
              "outlinewidth": 0,
              "ticks": ""
             }
            },
            "type": "scattergl"
           }
          ],
          "scattermapbox": [
           {
            "marker": {
             "colorbar": {
              "outlinewidth": 0,
              "ticks": ""
             }
            },
            "type": "scattermapbox"
           }
          ],
          "scatterpolar": [
           {
            "marker": {
             "colorbar": {
              "outlinewidth": 0,
              "ticks": ""
             }
            },
            "type": "scatterpolar"
           }
          ],
          "scatterpolargl": [
           {
            "marker": {
             "colorbar": {
              "outlinewidth": 0,
              "ticks": ""
             }
            },
            "type": "scatterpolargl"
           }
          ],
          "scatterternary": [
           {
            "marker": {
             "colorbar": {
              "outlinewidth": 0,
              "ticks": ""
             }
            },
            "type": "scatterternary"
           }
          ],
          "surface": [
           {
            "colorbar": {
             "outlinewidth": 0,
             "ticks": ""
            },
            "colorscale": [
             [
              0,
              "#0d0887"
             ],
             [
              0.1111111111111111,
              "#46039f"
             ],
             [
              0.2222222222222222,
              "#7201a8"
             ],
             [
              0.3333333333333333,
              "#9c179e"
             ],
             [
              0.4444444444444444,
              "#bd3786"
             ],
             [
              0.5555555555555556,
              "#d8576b"
             ],
             [
              0.6666666666666666,
              "#ed7953"
             ],
             [
              0.7777777777777778,
              "#fb9f3a"
             ],
             [
              0.8888888888888888,
              "#fdca26"
             ],
             [
              1,
              "#f0f921"
             ]
            ],
            "type": "surface"
           }
          ],
          "table": [
           {
            "cells": {
             "fill": {
              "color": "#EBF0F8"
             },
             "line": {
              "color": "white"
             }
            },
            "header": {
             "fill": {
              "color": "#C8D4E3"
             },
             "line": {
              "color": "white"
             }
            },
            "type": "table"
           }
          ]
         },
         "layout": {
          "annotationdefaults": {
           "arrowcolor": "#2a3f5f",
           "arrowhead": 0,
           "arrowwidth": 1
          },
          "autotypenumbers": "strict",
          "coloraxis": {
           "colorbar": {
            "outlinewidth": 0,
            "ticks": ""
           }
          },
          "colorscale": {
           "diverging": [
            [
             0,
             "#8e0152"
            ],
            [
             0.1,
             "#c51b7d"
            ],
            [
             0.2,
             "#de77ae"
            ],
            [
             0.3,
             "#f1b6da"
            ],
            [
             0.4,
             "#fde0ef"
            ],
            [
             0.5,
             "#f7f7f7"
            ],
            [
             0.6,
             "#e6f5d0"
            ],
            [
             0.7,
             "#b8e186"
            ],
            [
             0.8,
             "#7fbc41"
            ],
            [
             0.9,
             "#4d9221"
            ],
            [
             1,
             "#276419"
            ]
           ],
           "sequential": [
            [
             0,
             "#0d0887"
            ],
            [
             0.1111111111111111,
             "#46039f"
            ],
            [
             0.2222222222222222,
             "#7201a8"
            ],
            [
             0.3333333333333333,
             "#9c179e"
            ],
            [
             0.4444444444444444,
             "#bd3786"
            ],
            [
             0.5555555555555556,
             "#d8576b"
            ],
            [
             0.6666666666666666,
             "#ed7953"
            ],
            [
             0.7777777777777778,
             "#fb9f3a"
            ],
            [
             0.8888888888888888,
             "#fdca26"
            ],
            [
             1,
             "#f0f921"
            ]
           ],
           "sequentialminus": [
            [
             0,
             "#0d0887"
            ],
            [
             0.1111111111111111,
             "#46039f"
            ],
            [
             0.2222222222222222,
             "#7201a8"
            ],
            [
             0.3333333333333333,
             "#9c179e"
            ],
            [
             0.4444444444444444,
             "#bd3786"
            ],
            [
             0.5555555555555556,
             "#d8576b"
            ],
            [
             0.6666666666666666,
             "#ed7953"
            ],
            [
             0.7777777777777778,
             "#fb9f3a"
            ],
            [
             0.8888888888888888,
             "#fdca26"
            ],
            [
             1,
             "#f0f921"
            ]
           ]
          },
          "colorway": [
           "#636efa",
           "#EF553B",
           "#00cc96",
           "#ab63fa",
           "#FFA15A",
           "#19d3f3",
           "#FF6692",
           "#B6E880",
           "#FF97FF",
           "#FECB52"
          ],
          "font": {
           "color": "#2a3f5f"
          },
          "geo": {
           "bgcolor": "white",
           "lakecolor": "white",
           "landcolor": "#E5ECF6",
           "showlakes": true,
           "showland": true,
           "subunitcolor": "white"
          },
          "hoverlabel": {
           "align": "left"
          },
          "hovermode": "closest",
          "mapbox": {
           "style": "light"
          },
          "paper_bgcolor": "white",
          "plot_bgcolor": "#E5ECF6",
          "polar": {
           "angularaxis": {
            "gridcolor": "white",
            "linecolor": "white",
            "ticks": ""
           },
           "bgcolor": "#E5ECF6",
           "radialaxis": {
            "gridcolor": "white",
            "linecolor": "white",
            "ticks": ""
           }
          },
          "scene": {
           "xaxis": {
            "backgroundcolor": "#E5ECF6",
            "gridcolor": "white",
            "gridwidth": 2,
            "linecolor": "white",
            "showbackground": true,
            "ticks": "",
            "zerolinecolor": "white"
           },
           "yaxis": {
            "backgroundcolor": "#E5ECF6",
            "gridcolor": "white",
            "gridwidth": 2,
            "linecolor": "white",
            "showbackground": true,
            "ticks": "",
            "zerolinecolor": "white"
           },
           "zaxis": {
            "backgroundcolor": "#E5ECF6",
            "gridcolor": "white",
            "gridwidth": 2,
            "linecolor": "white",
            "showbackground": true,
            "ticks": "",
            "zerolinecolor": "white"
           }
          },
          "shapedefaults": {
           "line": {
            "color": "#2a3f5f"
           }
          },
          "ternary": {
           "aaxis": {
            "gridcolor": "white",
            "linecolor": "white",
            "ticks": ""
           },
           "baxis": {
            "gridcolor": "white",
            "linecolor": "white",
            "ticks": ""
           },
           "bgcolor": "#E5ECF6",
           "caxis": {
            "gridcolor": "white",
            "linecolor": "white",
            "ticks": ""
           }
          },
          "title": {
           "x": 0.05
          },
          "xaxis": {
           "automargin": true,
           "gridcolor": "white",
           "linecolor": "white",
           "ticks": "",
           "title": {
            "standoff": 15
           },
           "zerolinecolor": "white",
           "zerolinewidth": 2
          },
          "yaxis": {
           "automargin": true,
           "gridcolor": "white",
           "linecolor": "white",
           "ticks": "",
           "title": {
            "standoff": 15
           },
           "zerolinecolor": "white",
           "zerolinewidth": 2
          }
         }
        },
        "title": {
         "text": "Overall Results of Applications"
        },
        "width": 1200
       }
      },
      "image/png": "[encoded data removed]",
      "text/html": [
       "<div>                            <div id=\"2b30ab8e-ee9e-490a-a642-6c99124f3c5f\" class=\"plotly-graph-div\" style=\"height:1000px; width:1200px;\"></div>            <script type=\"text/javascript\">                require([\"plotly\"], function(Plotly) {                    window.PLOTLYENV=window.PLOTLYENV || {};                                    if (document.getElementById(\"2b30ab8e-ee9e-490a-a642-6c99124f3c5f\")) {                    Plotly.newPlot(                        \"2b30ab8e-ee9e-490a-a642-6c99124f3c5f\",                        [{\"hole\":0.4,\"labels\":[\"No Response\",\"Rejected\",\"First Interview\",\"Scam\",\"Contacted\",\"Third Interview\",\"Offer\"],\"marker\":{\"colors\":[\"salmon\",\"crimson\",\"seagreen\",\"purple\",\"gold\",\"mediumaquamarine\",\"lime\"]},\"name\":\"\",\"scalegroup\":\"one\",\"values\":[170,86,7,4,3,2,1],\"type\":\"pie\",\"domain\":{\"x\":[0.0,0.2888888888888889],\"y\":[0.625,1.0]},\"textinfo\":\"value+percent\",\"texttemplate\":\"(%{value})<br>%{percent}\"},{\"hole\":0.4,\"labels\":[\"No Response\",\"Rejected\",\"Contacted\",\"Scam\",\"Third Interview\"],\"marker\":{\"colors\":[\"salmon\",\"crimson\",\"gold\",\"purple\",\"mediumaquamarine\"]},\"name\":\"\",\"scalegroup\":\"one\",\"values\":[91,43,2,1,1],\"type\":\"pie\",\"domain\":{\"x\":[0.35555555555555557,0.6444444444444445],\"y\":[0.625,1.0]},\"textinfo\":\"value+percent\",\"texttemplate\":\"(%{value})<br>%{percent}\"},{\"hole\":0.4,\"labels\":[\"No Response\",\"Rejected\",\"First Interview\",\"Scam\",\"Contacted\",\"Third Interview\"],\"marker\":{\"colors\":[\"salmon\",\"crimson\",\"seagreen\",\"purple\",\"gold\",\"mediumaquamarine\"]},\"name\":\"\",\"scalegroup\":\"one\",\"values\":[62,29,6,3,1,1],\"type\":\"pie\",\"domain\":{\"x\":[0.7111111111111111,1.0],\"y\":[0.625,1.0]},\"textinfo\":\"value+percent\",\"texttemplate\":\"(%{value})<br>%{percent}\"},{\"hole\":0.4,\"labels\":[\"Rejected\",\"No Response\",\"Offer\"],\"marker\":{\"colors\":[\"crimson\",\"salmon\",\"lime\"]},\"name\":\"\",\"scalegroup\":\"one\",\"values\":[8,5,1],\"type\":\"pie\",\"domain\":{\"x\":[0.0,0.2888888888888889],\"y\":[0.0,0.375]},\"textinfo\":\"value+percent\",\"texttemplate\":\"(%{value})<br>%{percent}\"},{\"hole\":0.4,\"labels\":[\"No Response\",\"Rejected\"],\"marker\":{\"colors\":[\"salmon\",\"crimson\"]},\"name\":\"\",\"scalegroup\":\"one\",\"values\":[6,5],\"type\":\"pie\",\"domain\":{\"x\":[0.35555555555555557,0.6444444444444445],\"y\":[0.0,0.375]},\"textinfo\":\"value+percent\",\"texttemplate\":\"(%{value})<br>%{percent}\"},{\"hole\":0.4,\"labels\":[\"No Response\",\"First Interview\",\"Rejected\"],\"marker\":{\"colors\":[\"salmon\",\"seagreen\",\"crimson\"]},\"name\":\"\",\"scalegroup\":\"one\",\"values\":[6,1,1],\"type\":\"pie\",\"domain\":{\"x\":[0.7111111111111111,1.0],\"y\":[0.0,0.375]},\"textinfo\":\"value+percent\",\"texttemplate\":\"(%{value})<br>%{percent}\"}],                        {\"template\":{\"data\":{\"histogram2dcontour\":[{\"type\":\"histogram2dcontour\",\"colorbar\":{\"outlinewidth\":0,\"ticks\":\"\"},\"colorscale\":[[0.0,\"#0d0887\"],[0.1111111111111111,\"#46039f\"],[0.2222222222222222,\"#7201a8\"],[0.3333333333333333,\"#9c179e\"],[0.4444444444444444,\"#bd3786\"],[0.5555555555555556,\"#d8576b\"],[0.6666666666666666,\"#ed7953\"],[0.7777777777777778,\"#fb9f3a\"],[0.8888888888888888,\"#fdca26\"],[1.0,\"#f0f921\"]]}],\"choropleth\":[{\"type\":\"choropleth\",\"colorbar\":{\"outlinewidth\":0,\"ticks\":\"\"}}],\"histogram2d\":[{\"type\":\"histogram2d\",\"colorbar\":{\"outlinewidth\":0,\"ticks\":\"\"},\"colorscale\":[[0.0,\"#0d0887\"],[0.1111111111111111,\"#46039f\"],[0.2222222222222222,\"#7201a8\"],[0.3333333333333333,\"#9c179e\"],[0.4444444444444444,\"#bd3786\"],[0.5555555555555556,\"#d8576b\"],[0.6666666666666666,\"#ed7953\"],[0.7777777777777778,\"#fb9f3a\"],[0.8888888888888888,\"#fdca26\"],[1.0,\"#f0f921\"]]}],\"heatmap\":[{\"type\":\"heatmap\",\"colorbar\":{\"outlinewidth\":0,\"ticks\":\"\"},\"colorscale\":[[0.0,\"#0d0887\"],[0.1111111111111111,\"#46039f\"],[0.2222222222222222,\"#7201a8\"],[0.3333333333333333,\"#9c179e\"],[0.4444444444444444,\"#bd3786\"],[0.5555555555555556,\"#d8576b\"],[0.6666666666666666,\"#ed7953\"],[0.7777777777777778,\"#fb9f3a\"],[0.8888888888888888,\"#fdca26\"],[1.0,\"#f0f921\"]]}],\"heatmapgl\":[{\"type\":\"heatmapgl\",\"colorbar\":{\"outlinewidth\":0,\"ticks\":\"\"},\"colorscale\":[[0.0,\"#0d0887\"],[0.1111111111111111,\"#46039f\"],[0.2222222222222222,\"#7201a8\"],[0.3333333333333333,\"#9c179e\"],[0.4444444444444444,\"#bd3786\"],[0.5555555555555556,\"#d8576b\"],[0.6666666666666666,\"#ed7953\"],[0.7777777777777778,\"#fb9f3a\"],[0.8888888888888888,\"#fdca26\"],[1.0,\"#f0f921\"]]}],\"contourcarpet\":[{\"type\":\"contourcarpet\",\"colorbar\":{\"outlinewidth\":0,\"ticks\":\"\"}}],\"contour\":[{\"type\":\"contour\",\"colorbar\":{\"outlinewidth\":0,\"ticks\":\"\"},\"colorscale\":[[0.0,\"#0d0887\"],[0.1111111111111111,\"#46039f\"],[0.2222222222222222,\"#7201a8\"],[0.3333333333333333,\"#9c179e\"],[0.4444444444444444,\"#bd3786\"],[0.5555555555555556,\"#d8576b\"],[0.6666666666666666,\"#ed7953\"],[0.7777777777777778,\"#fb9f3a\"],[0.8888888888888888,\"#fdca26\"],[1.0,\"#f0f921\"]]}],\"surface\":[{\"type\":\"surface\",\"colorbar\":{\"outlinewidth\":0,\"ticks\":\"\"},\"colorscale\":[[0.0,\"#0d0887\"],[0.1111111111111111,\"#46039f\"],[0.2222222222222222,\"#7201a8\"],[0.3333333333333333,\"#9c179e\"],[0.4444444444444444,\"#bd3786\"],[0.5555555555555556,\"#d8576b\"],[0.6666666666666666,\"#ed7953\"],[0.7777777777777778,\"#fb9f3a\"],[0.8888888888888888,\"#fdca26\"],[1.0,\"#f0f921\"]]}],\"mesh3d\":[{\"type\":\"mesh3d\",\"colorbar\":{\"outlinewidth\":0,\"ticks\":\"\"}}],\"scatter\":[{\"fillpattern\":{\"fillmode\":\"overlay\",\"size\":10,\"solidity\":0.2},\"type\":\"scatter\"}],\"parcoords\":[{\"type\":\"parcoords\",\"line\":{\"colorbar\":{\"outlinewidth\":0,\"ticks\":\"\"}}}],\"scatterpolargl\":[{\"type\":\"scatterpolargl\",\"marker\":{\"colorbar\":{\"outlinewidth\":0,\"ticks\":\"\"}}}],\"bar\":[{\"error_x\":{\"color\":\"#2a3f5f\"},\"error_y\":{\"color\":\"#2a3f5f\"},\"marker\":{\"line\":{\"color\":\"#E5ECF6\",\"width\":0.5},\"pattern\":{\"fillmode\":\"overlay\",\"size\":10,\"solidity\":0.2}},\"type\":\"bar\"}],\"scattergeo\":[{\"type\":\"scattergeo\",\"marker\":{\"colorbar\":{\"outlinewidth\":0,\"ticks\":\"\"}}}],\"scatterpolar\":[{\"type\":\"scatterpolar\",\"marker\":{\"colorbar\":{\"outlinewidth\":0,\"ticks\":\"\"}}}],\"histogram\":[{\"marker\":{\"pattern\":{\"fillmode\":\"overlay\",\"size\":10,\"solidity\":0.2}},\"type\":\"histogram\"}],\"scattergl\":[{\"type\":\"scattergl\",\"marker\":{\"colorbar\":{\"outlinewidth\":0,\"ticks\":\"\"}}}],\"scatter3d\":[{\"type\":\"scatter3d\",\"line\":{\"colorbar\":{\"outlinewidth\":0,\"ticks\":\"\"}},\"marker\":{\"colorbar\":{\"outlinewidth\":0,\"ticks\":\"\"}}}],\"scattermapbox\":[{\"type\":\"scattermapbox\",\"marker\":{\"colorbar\":{\"outlinewidth\":0,\"ticks\":\"\"}}}],\"scatterternary\":[{\"type\":\"scatterternary\",\"marker\":{\"colorbar\":{\"outlinewidth\":0,\"ticks\":\"\"}}}],\"scattercarpet\":[{\"type\":\"scattercarpet\",\"marker\":{\"colorbar\":{\"outlinewidth\":0,\"ticks\":\"\"}}}],\"carpet\":[{\"aaxis\":{\"endlinecolor\":\"#2a3f5f\",\"gridcolor\":\"white\",\"linecolor\":\"white\",\"minorgridcolor\":\"white\",\"startlinecolor\":\"#2a3f5f\"},\"baxis\":{\"endlinecolor\":\"#2a3f5f\",\"gridcolor\":\"white\",\"linecolor\":\"white\",\"minorgridcolor\":\"white\",\"startlinecolor\":\"#2a3f5f\"},\"type\":\"carpet\"}],\"table\":[{\"cells\":{\"fill\":{\"color\":\"#EBF0F8\"},\"line\":{\"color\":\"white\"}},\"header\":{\"fill\":{\"color\":\"#C8D4E3\"},\"line\":{\"color\":\"white\"}},\"type\":\"table\"}],\"barpolar\":[{\"marker\":{\"line\":{\"color\":\"#E5ECF6\",\"width\":0.5},\"pattern\":{\"fillmode\":\"overlay\",\"size\":10,\"solidity\":0.2}},\"type\":\"barpolar\"}],\"pie\":[{\"automargin\":true,\"type\":\"pie\"}]},\"layout\":{\"autotypenumbers\":\"strict\",\"colorway\":[\"#636efa\",\"#EF553B\",\"#00cc96\",\"#ab63fa\",\"#FFA15A\",\"#19d3f3\",\"#FF6692\",\"#B6E880\",\"#FF97FF\",\"#FECB52\"],\"font\":{\"color\":\"#2a3f5f\"},\"hovermode\":\"closest\",\"hoverlabel\":{\"align\":\"left\"},\"paper_bgcolor\":\"white\",\"plot_bgcolor\":\"#E5ECF6\",\"polar\":{\"bgcolor\":\"#E5ECF6\",\"angularaxis\":{\"gridcolor\":\"white\",\"linecolor\":\"white\",\"ticks\":\"\"},\"radialaxis\":{\"gridcolor\":\"white\",\"linecolor\":\"white\",\"ticks\":\"\"}},\"ternary\":{\"bgcolor\":\"#E5ECF6\",\"aaxis\":{\"gridcolor\":\"white\",\"linecolor\":\"white\",\"ticks\":\"\"},\"baxis\":{\"gridcolor\":\"white\",\"linecolor\":\"white\",\"ticks\":\"\"},\"caxis\":{\"gridcolor\":\"white\",\"linecolor\":\"white\",\"ticks\":\"\"}},\"coloraxis\":{\"colorbar\":{\"outlinewidth\":0,\"ticks\":\"\"}},\"colorscale\":{\"sequential\":[[0.0,\"#0d0887\"],[0.1111111111111111,\"#46039f\"],[0.2222222222222222,\"#7201a8\"],[0.3333333333333333,\"#9c179e\"],[0.4444444444444444,\"#bd3786\"],[0.5555555555555556,\"#d8576b\"],[0.6666666666666666,\"#ed7953\"],[0.7777777777777778,\"#fb9f3a\"],[0.8888888888888888,\"#fdca26\"],[1.0,\"#f0f921\"]],\"sequentialminus\":[[0.0,\"#0d0887\"],[0.1111111111111111,\"#46039f\"],[0.2222222222222222,\"#7201a8\"],[0.3333333333333333,\"#9c179e\"],[0.4444444444444444,\"#bd3786\"],[0.5555555555555556,\"#d8576b\"],[0.6666666666666666,\"#ed7953\"],[0.7777777777777778,\"#fb9f3a\"],[0.8888888888888888,\"#fdca26\"],[1.0,\"#f0f921\"]],\"diverging\":[[0,\"#8e0152\"],[0.1,\"#c51b7d\"],[0.2,\"#de77ae\"],[0.3,\"#f1b6da\"],[0.4,\"#fde0ef\"],[0.5,\"#f7f7f7\"],[0.6,\"#e6f5d0\"],[0.7,\"#b8e186\"],[0.8,\"#7fbc41\"],[0.9,\"#4d9221\"],[1,\"#276419\"]]},\"xaxis\":{\"gridcolor\":\"white\",\"linecolor\":\"white\",\"ticks\":\"\",\"title\":{\"standoff\":15},\"zerolinecolor\":\"white\",\"automargin\":true,\"zerolinewidth\":2},\"yaxis\":{\"gridcolor\":\"white\",\"linecolor\":\"white\",\"ticks\":\"\",\"title\":{\"standoff\":15},\"zerolinecolor\":\"white\",\"automargin\":true,\"zerolinewidth\":2},\"scene\":{\"xaxis\":{\"backgroundcolor\":\"#E5ECF6\",\"gridcolor\":\"white\",\"linecolor\":\"white\",\"showbackground\":true,\"ticks\":\"\",\"zerolinecolor\":\"white\",\"gridwidth\":2},\"yaxis\":{\"backgroundcolor\":\"#E5ECF6\",\"gridcolor\":\"white\",\"linecolor\":\"white\",\"showbackground\":true,\"ticks\":\"\",\"zerolinecolor\":\"white\",\"gridwidth\":2},\"zaxis\":{\"backgroundcolor\":\"#E5ECF6\",\"gridcolor\":\"white\",\"linecolor\":\"white\",\"showbackground\":true,\"ticks\":\"\",\"zerolinecolor\":\"white\",\"gridwidth\":2}},\"shapedefaults\":{\"line\":{\"color\":\"#2a3f5f\"}},\"annotationdefaults\":{\"arrowcolor\":\"#2a3f5f\",\"arrowhead\":0,\"arrowwidth\":1},\"geo\":{\"bgcolor\":\"white\",\"landcolor\":\"#E5ECF6\",\"subunitcolor\":\"white\",\"showland\":true,\"showlakes\":true,\"lakecolor\":\"white\"},\"title\":{\"x\":0.05},\"mapbox\":{\"style\":\"light\"}}},\"annotations\":[{\"font\":{\"size\":16},\"showarrow\":false,\"text\":\"Overall Applications\",\"x\":0.14444444444444446,\"xanchor\":\"center\",\"xref\":\"paper\",\"y\":1.0,\"yanchor\":\"bottom\",\"yref\":\"paper\"},{\"font\":{\"size\":16},\"showarrow\":false,\"text\":\"Data Scientist Applications\",\"x\":0.5,\"xanchor\":\"center\",\"xref\":\"paper\",\"y\":1.0,\"yanchor\":\"bottom\",\"yref\":\"paper\"},{\"font\":{\"size\":16},\"showarrow\":false,\"text\":\"Data Analyst Applications\",\"x\":0.8555555555555556,\"xanchor\":\"center\",\"xref\":\"paper\",\"y\":1.0,\"yanchor\":\"bottom\",\"yref\":\"paper\"},{\"font\":{\"size\":16},\"showarrow\":false,\"text\":\"Data Engineer Applications\",\"x\":0.14444444444444446,\"xanchor\":\"center\",\"xref\":\"paper\",\"y\":0.375,\"yanchor\":\"bottom\",\"yref\":\"paper\"},{\"font\":{\"size\":16},\"showarrow\":false,\"text\":\"Other Applications\",\"x\":0.5,\"xanchor\":\"center\",\"xref\":\"paper\",\"y\":0.375,\"yanchor\":\"bottom\",\"yref\":\"paper\"},{\"font\":{\"size\":16},\"showarrow\":false,\"text\":\"ML Engineer Applications\",\"x\":0.8555555555555556,\"xanchor\":\"center\",\"xref\":\"paper\",\"y\":0.375,\"yanchor\":\"bottom\",\"yref\":\"paper\"}],\"title\":{\"text\":\"Overall Results of Applications\"},\"width\":1200,\"height\":1000},                        {\"responsive\": true}                    ).then(function(){\n",
       "                            \n",
       "var gd = document.getElementById('2b30ab8e-ee9e-490a-a642-6c99124f3c5f');\n",
       "var x = new MutationObserver(function (mutations, observer) {{\n",
       "        var display = window.getComputedStyle(gd).display;\n",
       "        if (!display || display === 'none') {{\n",
       "            console.log([gd, 'removed!']);\n",
       "            Plotly.purge(gd);\n",
       "            observer.disconnect();\n",
       "        }}\n",
       "}});\n",
       "\n",
       "// Listen for the removal of the full notebook cells\n",
       "var notebookContainer = gd.closest('#notebook-container');\n",
       "if (notebookContainer) {{\n",
       "    x.observe(notebookContainer, {childList: true});\n",
       "}}\n",
       "\n",
       "// Listen for the clearing of the current output cell\n",
       "var outputEl = gd.closest('.output');\n",
       "if (outputEl) {{\n",
       "    x.observe(outputEl, {childList: true});\n",
       "}}\n",
       "\n",
       "                        })                };                });            </script>        </div>"
      ]
     },
     "metadata": {},
     "output_type": "display_data"
    }
   ],
   "source": [
    "cats = [\"Overall\"] + list(role_group_to_bar.index)\n",
    "\n",
    "fig = make_subplots(2, 3, subplot_titles=[cat + \" Applications\" for cat in cats], specs=[[{'type':'domain'}]*(len(cats) // 2), [{'type':'domain'}]*(len(cats) // 2)])\n",
    "                   \n",
    "s = pd.Series(result_colors).drop(\"Total\").reindex(role_group_to_bar.drop(\"Total\", axis=1).columns)\n",
    "    \n",
    "i, j = 1, 1\n",
    "for pie_category in cats:\n",
    "    \n",
    "    pie_category = pie_category if pie_category is not None else \"Overall\"\n",
    "   \n",
    "    if pie_category == \"Overall\":\n",
    "        fig.add_trace(go.Pie(values=df[\"Result\"].value_counts(), \n",
    "                    labels=df[\"Result\"].value_counts().index,\n",
    "                    marker=dict(colors=s.reindex(df[\"Result\"].value_counts().index)),\n",
    "                    scalegroup='one',\n",
    "                    hole=0.4,\n",
    "                    name=\"\"), i, j) \n",
    "    else:\n",
    "        pie_cat_df = df[df[\"Broad_Role\"] == pie_category]\n",
    "    \n",
    "        fig.add_trace(go.Pie(values=pie_cat_df[\"Result\"].value_counts(), \n",
    "                labels=pie_cat_df[\"Result\"].value_counts().index,\n",
    "                scalegroup='one',\n",
    "                marker=dict(colors=s.reindex(pie_cat_df[\"Result\"].value_counts().index)),\n",
    "                hole=0.4,\n",
    "                name=\"\"), i, j) # donut\n",
    "    \n",
    "    # update text labels on pie slices\n",
    "    fig.update_traces(textinfo=\"value+percent\", texttemplate=\"(%{value})<br>%{percent}\")\n",
    "    \n",
    "    i = i if j < 3 else 2\n",
    "    j = j + 1 if j < 3 else 1\n",
    "    \n",
    "fig.update_layout(width=1200, height=1000, title_text='Overall Results of Applications')\n",
    "fig.show()"
   ]
  },
  {
   "cell_type": "code",
   "execution_count": 6,
   "id": "eb597396-38ea-4f35-a479-70f92cdbf235",
   "metadata": {},
   "outputs": [
    {
     "name": "stderr",
     "output_type": "stream",
     "text": [
      "WARNING: This is a development server. Do not use it in a production deployment. Use a production WSGI server instead.\n",
      " * Running on http://127.0.0.1:8050\n",
      "Press CTRL+C to quit\n",
      "127.0.0.1 - - [12/Jan/2023 11:07:23] \"GET /_alive_4f45a1f5-d683-4df8-a510-5e78809ede8d HTTP/1.1\" 200 -\n"
     ]
    }
   ],
   "source": [
    "app.run_server(mode='jupyterlab', debug=False)"
   ]
  },
  {
   "cell_type": "code",
   "execution_count": 30,
   "id": "e61a2754-c8a8-4b97-a547-d395b8a7bcce",
   "metadata": {},
   "outputs": [
    {
     "data": {
      "text/plain": [
       "(2, 4)"
      ]
     },
     "execution_count": 30,
     "metadata": {},
     "output_type": "execute_result"
    }
   ],
   "source": [
    "np.shape([[{'type': 'domain'}]*4, [{'type': 'domain'}]*4])"
   ]
  },
  {
   "cell_type": "code",
   "execution_count": 38,
   "id": "85e27bc2-630d-4a28-8450-20977739c52a",
   "metadata": {},
   "outputs": [
    {
     "data": {
      "text/plain": [
       "(2, 3)"
      ]
     },
     "execution_count": 38,
     "metadata": {},
     "output_type": "execute_result"
    }
   ],
   "source": [
    "np.shape([[{'type':'domain'}]*(len(cats) // 2), [{'type':'domain'}]*(len(cats) // 2)])"
   ]
  },
  {
   "cell_type": "code",
   "execution_count": 63,
   "id": "99483396-fb62-4d3f-b013-b3208a5fea69",
   "metadata": {},
   "outputs": [
    {
     "data": {
      "text/html": [
       "<div>\n",
       "<style scoped>\n",
       "    .dataframe tbody tr th:only-of-type {\n",
       "        vertical-align: middle;\n",
       "    }\n",
       "\n",
       "    .dataframe tbody tr th {\n",
       "        vertical-align: top;\n",
       "    }\n",
       "\n",
       "    .dataframe thead th {\n",
       "        text-align: right;\n",
       "    }\n",
       "</style>\n",
       "<table border=\"1\" class=\"dataframe\">\n",
       "  <thead>\n",
       "    <tr style=\"text-align: right;\">\n",
       "      <th>Result</th>\n",
       "      <th>No Response</th>\n",
       "      <th>Rejected</th>\n",
       "      <th>First Interview</th>\n",
       "      <th>Scam</th>\n",
       "      <th>Contacted</th>\n",
       "      <th>Offer</th>\n",
       "      <th>Third Interview</th>\n",
       "    </tr>\n",
       "    <tr>\n",
       "      <th>Broad_Role</th>\n",
       "      <th></th>\n",
       "      <th></th>\n",
       "      <th></th>\n",
       "      <th></th>\n",
       "      <th></th>\n",
       "      <th></th>\n",
       "      <th></th>\n",
       "    </tr>\n",
       "  </thead>\n",
       "  <tbody>\n",
       "    <tr>\n",
       "      <th>Data Scientist</th>\n",
       "      <td>91.0</td>\n",
       "      <td>43.0</td>\n",
       "      <td>NaN</td>\n",
       "      <td>1.0</td>\n",
       "      <td>2.0</td>\n",
       "      <td>NaN</td>\n",
       "      <td>1.0</td>\n",
       "    </tr>\n",
       "    <tr>\n",
       "      <th>Data Analyst</th>\n",
       "      <td>62.0</td>\n",
       "      <td>29.0</td>\n",
       "      <td>6.0</td>\n",
       "      <td>3.0</td>\n",
       "      <td>1.0</td>\n",
       "      <td>NaN</td>\n",
       "      <td>1.0</td>\n",
       "    </tr>\n",
       "    <tr>\n",
       "      <th>Data Engineer</th>\n",
       "      <td>5.0</td>\n",
       "      <td>8.0</td>\n",
       "      <td>NaN</td>\n",
       "      <td>NaN</td>\n",
       "      <td>NaN</td>\n",
       "      <td>1.0</td>\n",
       "      <td>NaN</td>\n",
       "    </tr>\n",
       "    <tr>\n",
       "      <th>Other</th>\n",
       "      <td>6.0</td>\n",
       "      <td>5.0</td>\n",
       "      <td>NaN</td>\n",
       "      <td>NaN</td>\n",
       "      <td>NaN</td>\n",
       "      <td>NaN</td>\n",
       "      <td>NaN</td>\n",
       "    </tr>\n",
       "    <tr>\n",
       "      <th>ML Engineer</th>\n",
       "      <td>6.0</td>\n",
       "      <td>1.0</td>\n",
       "      <td>1.0</td>\n",
       "      <td>NaN</td>\n",
       "      <td>NaN</td>\n",
       "      <td>NaN</td>\n",
       "      <td>NaN</td>\n",
       "    </tr>\n",
       "  </tbody>\n",
       "</table>\n",
       "</div>"
      ],
      "text/plain": [
       "Result          No Response  Rejected  First Interview  Scam  Contacted  \\\n",
       "Broad_Role                                                                \n",
       "Data Scientist         91.0      43.0              NaN   1.0        2.0   \n",
       "Data Analyst           62.0      29.0              6.0   3.0        1.0   \n",
       "Data Engineer           5.0       8.0              NaN   NaN        NaN   \n",
       "Other                   6.0       5.0              NaN   NaN        NaN   \n",
       "ML Engineer             6.0       1.0              1.0   NaN        NaN   \n",
       "\n",
       "Result          Offer  Third Interview  \n",
       "Broad_Role                              \n",
       "Data Scientist    NaN              1.0  \n",
       "Data Analyst      NaN              1.0  \n",
       "Data Engineer     1.0              NaN  \n",
       "Other             NaN              NaN  \n",
       "ML Engineer       NaN              NaN  "
      ]
     },
     "execution_count": 63,
     "metadata": {},
     "output_type": "execute_result"
    }
   ],
   "source": [
    "role_group_to_bar.drop(\"Total\", axis=1)"
   ]
  },
  {
   "cell_type": "code",
   "execution_count": 70,
   "id": "163efdad-9af7-424b-82f4-ef367d420823",
   "metadata": {},
   "outputs": [
    {
     "data": {
      "text/plain": [
       "Result\n",
       "No Response                  salmon\n",
       "Rejected                    crimson\n",
       "First Interview            seagreen\n",
       "Scam                         purple\n",
       "Contacted                      gold\n",
       "Offer                          lime\n",
       "Third Interview    mediumaquamarine\n",
       "dtype: object"
      ]
     },
     "execution_count": 70,
     "metadata": {},
     "output_type": "execute_result"
    }
   ],
   "source": [
    "s.drop(\"Total\").reindex(role_group_to_bar.drop(\"Total\", axis=1).columns)"
   ]
  }
 ],
 "metadata": {
  "kernelspec": {
   "display_name": "Python 3 (ipykernel)",
   "language": "python",
   "name": "python3"
  },
  "language_info": {
   "codemirror_mode": {
    "name": "ipython",
    "version": 3
   },
   "file_extension": ".py",
   "mimetype": "text/x-python",
   "name": "python",
   "nbconvert_exporter": "python",
   "pygments_lexer": "ipython3",
   "version": "3.10.8"
  }
 },
 "nbformat": 4,
 "nbformat_minor": 5
}
